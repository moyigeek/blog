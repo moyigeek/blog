{
 "cells": [
  {
   "cell_type": "markdown",
   "metadata": {},
   "source": [
    "https://www.helloimg.com/i/2024/11/12/6732e0c22127b.jpg\n",
    "https://www.helloimg.com/i/2024/11/12/6732e0c22f685.jpg\n",
    "https://www.helloimg.com/i/2024/11/12/6732e0c33b008.jpg\n",
    "https://www.helloimg.com/i/2024/11/12/6732e0c3dc2be.jpg\n",
    "https://www.helloimg.com/i/2024/11/12/6732e0c4aecf9.jpg\n",
    "https://www.helloimg.com/i/2024/11/12/6732e0c50fc47.jpg\n",
    "https://www.helloimg.com/i/2024/11/12/6732e0c68e666.jpg\n",
    "https://www.helloimg.com/i/2024/11/12/6732e0c7cc768.jpg\n",
    "https://www.helloimg.com/i/2024/11/12/6732e0c9d7805.jpg"
   ]
  },
  {
   "cell_type": "code",
   "execution_count": null,
   "metadata": {},
   "outputs": [],
   "source": [
    "update本地图片"
   ]
  },
  {
   "cell_type": "code",
   "execution_count": 3,
   "metadata": {},
   "outputs": [
    {
     "name": "stdout",
     "output_type": "stream",
     "text": [
      "masonry.yml 更新完成\n"
     ]
    }
   ],
   "source": [
    "import os\n",
    "import yaml\n",
    "from datetime import datetime\n",
    "\n",
    "# 定义图片目录和masonry.yml文件路径\n",
    "image_dir = 'source/images'\n",
    "masonry_file = 'source/_data/masonry.yml'\n",
    "\n",
    "# 读取现有的masonry.yml内容\n",
    "if os.path.exists(masonry_file):\n",
    "    with open(masonry_file, 'r', encoding='utf-8') as file:\n",
    "        masonry_data = yaml.safe_load(file)\n",
    "else:\n",
    "    masonry_data = []\n",
    "\n",
    "# 遍历图片目录\n",
    "for image_name in os.listdir(image_dir):\n",
    "    if image_name == 'icon.jpg'or image_name == 'icon.ico'or image_name == 'icon.svg':\n",
    "        continue\n",
    "    image_path = os.path.join(image_dir, image_name)\n",
    "    if os.path.isfile(image_path):\n",
    "        # 获取图片的修改时间\n",
    "        mod_time = os.path.getmtime(image_path)\n",
    "        mod_date = datetime.fromtimestamp(mod_time).strftime('%Y-%m-%d')\n",
    "        \n",
    "        # 添加图片信息到masonry_data\n",
    "        masonry_data.append({\n",
    "            'image': f'/images/{image_name}',\n",
    "            'title': os.path.splitext(image_name)[0],\n",
    "            'description': mod_date\n",
    "        })\n",
    "\n",
    "# 将更新后的数据写回masonry.yml\n",
    "with open(masonry_file, 'w', encoding='utf-8') as file:\n",
    "    yaml.dump(masonry_data, file, allow_unicode=True, default_flow_style=False)\n",
    "\n",
    "print(\"masonry.yml 更新完成\")"
   ]
  },
  {
   "cell_type": "code",
   "execution_count": null,
   "metadata": {},
   "outputs": [],
   "source": [
    "将一系列图床url更新到masonry.yml"
   ]
  },
  {
   "cell_type": "code",
   "execution_count": 3,
   "metadata": {},
   "outputs": [
    {
     "name": "stdout",
     "output_type": "stream",
     "text": [
      "图片尺寸已缩小为原来的1/2\n"
     ]
    }
   ],
   "source": [
    "# 将/source/images/下的图片尺寸缩小到原来的1/2\n",
    "import os\n",
    "from PIL import Image\n",
    "\n",
    "# 定义图片目录路径\n",
    "image_dir = 'source/images'\n",
    "\n",
    "# 遍历目录中的所有文件\n",
    "for image_name in os.listdir(image_dir):\n",
    "    if image_name.lower().endswith(('.png', '.jpg', '.jpeg', '.gif', '.bmp')):\n",
    "        image_path = os.path.join(image_dir, image_name)\n",
    "        with Image.open(image_path) as img:\n",
    "            # 获取原始尺寸\n",
    "            width, height = img.size\n",
    "            # 计算新尺寸\n",
    "            new_size = (width // 2, height // 2)\n",
    "            # 缩小图片\n",
    "            img_resized = img.resize(new_size, Image.Resampling.LANCZOS)\n",
    "            # 保存缩小后的图片，覆盖原文件\n",
    "            img_resized.save(image_path)\n",
    "\n",
    "print(\"图片尺寸已缩小为原来的1/2\")"
   ]
  }
 ],
 "metadata": {
  "kernelspec": {
   "display_name": ".venv",
   "language": "python",
   "name": "python3"
  },
  "language_info": {
   "codemirror_mode": {
    "name": "ipython",
    "version": 3
   },
   "file_extension": ".py",
   "mimetype": "text/x-python",
   "name": "python",
   "nbconvert_exporter": "python",
   "pygments_lexer": "ipython3",
   "version": "3.12.2"
  }
 },
 "nbformat": 4,
 "nbformat_minor": 2
}
